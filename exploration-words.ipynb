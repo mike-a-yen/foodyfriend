{
 "cells": [
  {
   "cell_type": "markdown",
   "metadata": {},
   "source": [
    "## Find all positive and negative features of each pizza shop\n",
    "1. Tokenize each review into sentences\n",
    "2. Classify the senitment of each sentence, place a prior with the review score\n",
    "3. Tag each noun in each sentence\n",
    "4. Is that noun used in a positive sentence or negative sentence?"
   ]
  },
  {
   "cell_type": "code",
   "execution_count": 1,
   "metadata": {
    "collapsed": false
   },
   "outputs": [
    {
     "name": "stderr",
     "output_type": "stream",
     "text": [
      "/Users/mayen/anaconda/envs/python35/lib/python3.5/site-packages/flask_sqlalchemy/__init__.py:800: UserWarning: SQLALCHEMY_TRACK_MODIFICATIONS adds significant overhead and will be disabled by default in the future.  Set it to True to suppress this warning.\n",
      "  warnings.warn('SQLALCHEMY_TRACK_MODIFICATIONS adds significant overhead and will be disabled by default in the future.  Set it to True to suppress this warning.')\n"
     ]
    },
    {
     "name": "stdout",
     "output_type": "stream",
     "text": [
      "Creating DB\n"
     ]
    }
   ],
   "source": [
    "from app import app,db\n",
    "\n",
    "import pandas as pd\n",
    "import numpy as np\n",
    "import json\n",
    "import re\n",
    "from textblob import TextBlob\n",
    "from sklearn.feature_extraction.text import TfidfTransformer, CountVectorizer\n",
    "\n",
    "import nltk\n",
    "from nltk.tag import StanfordNERTagger\n",
    "from nltk.tokenize.punkt import PunktSentenceTokenizer\n",
    "from nltk.corpus import stopwords\n",
    "tokenizer = nltk.data.load('tokenizers/punkt/english.pickle')"
   ]
  },
  {
   "cell_type": "code",
   "execution_count": 2,
   "metadata": {
    "collapsed": true
   },
   "outputs": [],
   "source": [
    "reviews = pd.read_sql_table('reviews',app.config['SQLALCHEMY_DATABASE_URI'])"
   ]
  },
  {
   "cell_type": "code",
   "execution_count": 3,
   "metadata": {
    "collapsed": true
   },
   "outputs": [],
   "source": [
    "business = pd.read_sql_table('business',app.config['SQLALCHEMY_DATABASE_URI'])\n",
    "category = pd.read_sql_table('category',app.config['SQLALCHEMY_DATABASE_URI'])"
   ]
  },
  {
   "cell_type": "code",
   "execution_count": 5,
   "metadata": {
    "collapsed": false
   },
   "outputs": [
    {
     "data": {
      "text/html": [
       "<div>\n",
       "<table border=\"1\" class=\"dataframe\">\n",
       "  <thead>\n",
       "    <tr style=\"text-align: right;\">\n",
       "      <th></th>\n",
       "      <th>business_id</th>\n",
       "      <th>full_address</th>\n",
       "      <th>open</th>\n",
       "      <th>city</th>\n",
       "      <th>state</th>\n",
       "      <th>name</th>\n",
       "      <th>stars</th>\n",
       "      <th>review_count</th>\n",
       "      <th>lon</th>\n",
       "      <th>lat</th>\n",
       "      <th>price_range</th>\n",
       "      <th>type</th>\n",
       "      <th>category</th>\n",
       "    </tr>\n",
       "  </thead>\n",
       "  <tbody>\n",
       "    <tr>\n",
       "      <th>0</th>\n",
       "      <td>6o3RK6rTcN3nw-j-r2nQmA</td>\n",
       "      <td>231 E Main St\\nCarnegie\\nCarnegie, PA 15106</td>\n",
       "      <td>True</td>\n",
       "      <td>Carnegie</td>\n",
       "      <td>PA</td>\n",
       "      <td>Porto Fino Pizzaria &amp; Gyro</td>\n",
       "      <td>2.5</td>\n",
       "      <td>4</td>\n",
       "      <td>-80.084934</td>\n",
       "      <td>40.408832</td>\n",
       "      <td>NaN</td>\n",
       "      <td>business</td>\n",
       "      <td>Pizza</td>\n",
       "    </tr>\n",
       "    <tr>\n",
       "      <th>1</th>\n",
       "      <td>t_gan0EXAw8csKIeFyazJw</td>\n",
       "      <td>820 Amity St\\nHomestead\\nHomestead, PA 15120</td>\n",
       "      <td>True</td>\n",
       "      <td>Homestead</td>\n",
       "      <td>PA</td>\n",
       "      <td>Homestead Capri Pizza</td>\n",
       "      <td>2.0</td>\n",
       "      <td>4</td>\n",
       "      <td>-79.910527</td>\n",
       "      <td>40.406705</td>\n",
       "      <td>1.0</td>\n",
       "      <td>business</td>\n",
       "      <td>Pizza</td>\n",
       "    </tr>\n",
       "    <tr>\n",
       "      <th>2</th>\n",
       "      <td>-taSf0shFSUKy9iCXnySsA</td>\n",
       "      <td>2615 Main St\\nHomestead, PA 15120</td>\n",
       "      <td>True</td>\n",
       "      <td>Homestead</td>\n",
       "      <td>PA</td>\n",
       "      <td>Italian Village Pizza</td>\n",
       "      <td>2.5</td>\n",
       "      <td>6</td>\n",
       "      <td>-79.900010</td>\n",
       "      <td>40.392552</td>\n",
       "      <td>NaN</td>\n",
       "      <td>business</td>\n",
       "      <td>Pizza</td>\n",
       "    </tr>\n",
       "    <tr>\n",
       "      <th>3</th>\n",
       "      <td>6p9TlP2I8S4agxYMNFSDjg</td>\n",
       "      <td>205 East Waterfront Drive\\nHomestead\\nHomestea...</td>\n",
       "      <td>True</td>\n",
       "      <td>Homestead</td>\n",
       "      <td>PA</td>\n",
       "      <td>Uno Pizzeria &amp; Grill</td>\n",
       "      <td>3.0</td>\n",
       "      <td>55</td>\n",
       "      <td>-79.914136</td>\n",
       "      <td>40.410967</td>\n",
       "      <td>2.0</td>\n",
       "      <td>business</td>\n",
       "      <td>Pizza</td>\n",
       "    </tr>\n",
       "    <tr>\n",
       "      <th>4</th>\n",
       "      <td>uLnDFdn011hEroQQMLmxNQ</td>\n",
       "      <td>3502 Main St\\nMunhall, PA 15120</td>\n",
       "      <td>True</td>\n",
       "      <td>Munhall</td>\n",
       "      <td>PA</td>\n",
       "      <td>The Pizza Company</td>\n",
       "      <td>4.0</td>\n",
       "      <td>12</td>\n",
       "      <td>-79.903300</td>\n",
       "      <td>40.385718</td>\n",
       "      <td>1.0</td>\n",
       "      <td>business</td>\n",
       "      <td>Pizza</td>\n",
       "    </tr>\n",
       "  </tbody>\n",
       "</table>\n",
       "</div>"
      ],
      "text/plain": [
       "              business_id                                       full_address  \\\n",
       "0  6o3RK6rTcN3nw-j-r2nQmA        231 E Main St\\nCarnegie\\nCarnegie, PA 15106   \n",
       "1  t_gan0EXAw8csKIeFyazJw       820 Amity St\\nHomestead\\nHomestead, PA 15120   \n",
       "2  -taSf0shFSUKy9iCXnySsA                  2615 Main St\\nHomestead, PA 15120   \n",
       "3  6p9TlP2I8S4agxYMNFSDjg  205 East Waterfront Drive\\nHomestead\\nHomestea...   \n",
       "4  uLnDFdn011hEroQQMLmxNQ                    3502 Main St\\nMunhall, PA 15120   \n",
       "\n",
       "   open       city state                        name  stars  review_count  \\\n",
       "0  True   Carnegie    PA  Porto Fino Pizzaria & Gyro    2.5             4   \n",
       "1  True  Homestead    PA       Homestead Capri Pizza    2.0             4   \n",
       "2  True  Homestead    PA       Italian Village Pizza    2.5             6   \n",
       "3  True  Homestead    PA        Uno Pizzeria & Grill    3.0            55   \n",
       "4  True    Munhall    PA           The Pizza Company    4.0            12   \n",
       "\n",
       "         lon        lat  price_range      type category  \n",
       "0 -80.084934  40.408832          NaN  business    Pizza  \n",
       "1 -79.910527  40.406705          1.0  business    Pizza  \n",
       "2 -79.900010  40.392552          NaN  business    Pizza  \n",
       "3 -79.914136  40.410967          2.0  business    Pizza  \n",
       "4 -79.903300  40.385718          1.0  business    Pizza  "
      ]
     },
     "execution_count": 5,
     "metadata": {},
     "output_type": "execute_result"
    }
   ],
   "source": [
    "pizza = business.merge(category[category['category']=='Pizza'],\n",
    "                       how='inner',\n",
    "                       on='business_id',\n",
    "                      copy=False)\n",
    "pizza.drop(['id_x','id_y'],axis=1,inplace=True)\n",
    "pizza.head()"
   ]
  },
  {
   "cell_type": "code",
   "execution_count": 6,
   "metadata": {
    "collapsed": true
   },
   "outputs": [],
   "source": [
    "pizza_reviews = reviews.merge(category[category['category']=='Pizza'],\n",
    "                              how='inner',\n",
    "                              on='business_id',\n",
    "                             copy=False)\n",
    "pizza_reviews.drop(['id_x','id_y'],axis=1,inplace=True)"
   ]
  },
  {
   "cell_type": "code",
   "execution_count": 13,
   "metadata": {
    "collapsed": false
   },
   "outputs": [],
   "source": [
    "review = pizza_reviews.sample(1)\n",
    "rev = review['text'].values[0]\n",
    "blob = TextBlob(rev)"
   ]
  },
  {
   "cell_type": "code",
   "execution_count": 16,
   "metadata": {
    "collapsed": false
   },
   "outputs": [
    {
     "data": {
      "text/plain": [
       "112491    5\n",
       "Name: stars, dtype: int64"
      ]
     },
     "execution_count": 16,
     "metadata": {},
     "output_type": "execute_result"
    }
   ],
   "source": [
    "blob.sentiment\n",
    "review['stars']"
   ]
  },
  {
   "cell_type": "code",
   "execution_count": 54,
   "metadata": {
    "collapsed": false
   },
   "outputs": [],
   "source": [
    "def stars_prior(score):\n",
    "    \"\"\"convert the review score (stars)\n",
    "    to a sentiment score between -1 and 1\n",
    "    min(score) = 1\n",
    "    max(score) = 5\n",
    "    \"\"\"\n",
    "    assert score <= 5\n",
    "    assert score >= 1\n",
    "    return (score-3)/2\n",
    "    \n",
    "def extract_nouns(row,alpha=0.1):\n",
    "    \"\"\"Input is a row of the review dataframe\"\"\"\n",
    "    text = row['text']\n",
    "    sentiment = stars_prior(row['stars'])\n",
    "    threshold = -alpha*sentiment\n",
    "    print(sentiment,threshold)\n",
    "    #TODO use review sentiment as prior\n",
    "    # for sentence sentiment\n",
    "    blob = TextBlob(text)\n",
    "    words = {'positive':set(),'negative':set()}\n",
    "    for sentence in blob.sentences:\n",
    "        sentiment = ['negative','positive'][int(sentence.polarity>threshold)]\n",
    "        words[sentiment] = words[sentiment].union(set(sentence.noun_phrases))\n",
    "    return words"
   ]
  },
  {
   "cell_type": "code",
   "execution_count": 55,
   "metadata": {
    "collapsed": false
   },
   "outputs": [
    {
     "name": "stdout",
     "output_type": "stream",
     "text": [
      "112491    5\n",
      "Name: stars, dtype: int64\n",
      "1.0 -0.1\n"
     ]
    },
    {
     "data": {
      "text/plain": [
       "{'negative': set(),\n",
       " 'positive': {'cesar',\n",
       "  'cheese sauce',\n",
       "  'chicken wrap',\n",
       "  'delivery',\n",
       "  'discontinue business',\n",
       "  'french fries',\n",
       "  'greasey',\n",
       "  'love',\n",
       "  'pittsburgh',\n",
       "  'pizza joint',\n",
       "  'real cheese'}}"
      ]
     },
     "execution_count": 55,
     "metadata": {},
     "output_type": "execute_result"
    }
   ],
   "source": [
    "print(review['stars'])\n",
    "extract_nouns(review.iloc[0])"
   ]
  },
  {
   "cell_type": "code",
   "execution_count": 38,
   "metadata": {
    "collapsed": false
   },
   "outputs": [
    {
     "name": "stdout",
     "output_type": "stream",
     "text": [
      "The pizzas were okay...definitely not spectacular like many others are saying, but not bad...NO WAY is this the BEST in the US!\n"
     ]
    }
   ],
   "source": [
    "blobs = TextBlob(rev.values[0]).sentences\n",
    "b = blobs[3]\n",
    "print(b)"
   ]
  },
  {
   "cell_type": "code",
   "execution_count": 39,
   "metadata": {
    "collapsed": false
   },
   "outputs": [
    {
     "data": {
      "text/plain": [
       "Sentiment(polarity=0.39999999999999997, subjectivity=0.5666666666666667)"
      ]
     },
     "execution_count": 39,
     "metadata": {},
     "output_type": "execute_result"
    }
   ],
   "source": []
  },
  {
   "cell_type": "code",
   "execution_count": null,
   "metadata": {
    "collapsed": true
   },
   "outputs": [],
   "source": []
  }
 ],
 "metadata": {
  "anaconda-cloud": {},
  "kernelspec": {
   "display_name": "Python [python35]",
   "language": "python",
   "name": "Python [python35]"
  },
  "language_info": {
   "codemirror_mode": {
    "name": "ipython",
    "version": 3
   },
   "file_extension": ".py",
   "mimetype": "text/x-python",
   "name": "python",
   "nbconvert_exporter": "python",
   "pygments_lexer": "ipython3",
   "version": "3.5.2"
  }
 },
 "nbformat": 4,
 "nbformat_minor": 0
}
