{
 "cells": [
  {
   "cell_type": "code",
   "execution_count": 1,
   "metadata": {
    "collapsed": true
   },
   "outputs": [],
   "source": [
    "import json\n",
    "import sqlite3\n",
    "import datetime\n",
    "from app import db\n",
    "from app.models import User, Review, Business, Category, Attribute"
   ]
  },
  {
   "cell_type": "code",
   "execution_count": null,
   "metadata": {
    "collapsed": true
   },
   "outputs": [],
   "source": [
    "fields = ['business_id','noise_level','good_for_groups',\n",
    "          'delivery','caters','alcohol','reservations',\n",
    "          'outdoor','credit_cards','takeout','tv','drivethru',\n",
    "          'attire','good_for_kids','waiter']\n",
    "for line in open('yelp-data/yelp_academic_dataset_business.json','r'):\n",
    "    data = json.loads(line)\n",
    "    business_id = data.get('business_id')\n",
    "    attributes = data.get('attributes',{})\n",
    "    "
   ]
  }
 ],
 "metadata": {
  "kernelspec": {
   "display_name": "Python [python35]",
   "language": "python",
   "name": "Python [python35]"
  },
  "language_info": {
   "codemirror_mode": {
    "name": "ipython",
    "version": 3
   },
   "file_extension": ".py",
   "mimetype": "text/x-python",
   "name": "python",
   "nbconvert_exporter": "python",
   "pygments_lexer": "ipython3",
   "version": "3.5.2"
  }
 },
 "nbformat": 4,
 "nbformat_minor": 0
}
